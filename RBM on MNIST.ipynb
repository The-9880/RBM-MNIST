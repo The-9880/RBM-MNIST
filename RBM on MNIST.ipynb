{
 "cells": [
  {
   "cell_type": "code",
   "execution_count": 3,
   "metadata": {},
   "outputs": [
    {
     "name": "stdout",
     "output_type": "stream",
     "text": [
      "Tensorflow: 1.9.0\n"
     ]
    }
   ],
   "source": [
    "import tensorflow as tf\n",
    "import matplotlib.pyplot as plt\n",
    "import numpy as np\n",
    "\n",
    "print(\"Tensorflow: {}\".format(tf.VERSION))"
   ]
  },
  {
   "cell_type": "markdown",
   "metadata": {},
   "source": [
    "Now we'll load the dataset and inspect it a little - I have two approaches in mind, both of which involve scaling pixel intensities down to [0, 1]:\n",
    "1) Threshold pixel classes at 0.5 - <0.5 is white, >0.5 is black\n",
    "2) Treat the pixel intensities as the likelihood of activation"
   ]
  },
  {
   "cell_type": "code",
   "execution_count": 4,
   "metadata": {},
   "outputs": [
    {
     "name": "stdout",
     "output_type": "stream",
     "text": [
      "Training samples:  60000\n",
      "Training set shape:  (60000, 28, 28)\n",
      "Test cases:  10000\n",
      "Training shape:  (28, 28)\n"
     ]
    },
    {
     "data": {
      "image/png": "[encoded data removed]",
      "text/plain": [
       "<Figure size 432x288 with 1 Axes>"
      ]
     },
     "metadata": {
      "needs_background": "light"
     },
     "output_type": "display_data"
    },
    {
     "data": {
      "text/plain": [
       "<matplotlib.image.AxesImage at 0x1db4da77908>"
      ]
     },
     "execution_count": 4,
     "metadata": {},
     "output_type": "execute_result"
    },
    {
     "data": {
      "image/png": "[encoded data removed]",
      "text/plain": [
       "<Figure size 432x288 with 2 Axes>"
      ]
     },
     "metadata": {
      "needs_background": "light"
     },
     "output_type": "display_data"
    }
   ],
   "source": [
    "train, test = tf.keras.datasets.mnist.load_data(path=\"mnist.npz\")\n",
    "\n",
    "# Quick check on the sizes of the datasets\n",
    "print(\"Training samples: \", len(train[0]))\n",
    "print(\"Training set shape: \", train[0].shape)\n",
    "print(\"Test cases: \", len(test[0]))\n",
    "\n",
    "# Checking the size of each sample\n",
    "print(\"Training shape: \", train[0][0].shape)\n",
    "\n",
    "# print(train[0][0]) -- examining the values; 0-255\n",
    "\n",
    "# Checking out a sample\n",
    "image = train[0][0]\n",
    "plt.imshow(image, cmap=plt.get_cmap('gray_r'))\n",
    "plt.show()\n",
    "\n",
    "# Copying the sample, thresholding activations at >0.5 == 1, <0.5 == 0\n",
    "example = train[0][0]\n",
    "example = example / 255.0\n",
    "\n",
    "for i, x in enumerate(example):\n",
    "    for j, y in enumerate(x):\n",
    "        if y < 0.5:\n",
    "            example[i][j] = 0\n",
    "        else:\n",
    "            example[i][j] = 1\n",
    "\n",
    "f, axarr = plt.subplots(1, 2)\n",
    "axarr[0].imshow(image)\n",
    "axarr[1].imshow(example)"
   ]
  },
  {
   "cell_type": "code",
   "execution_count": 5,
   "metadata": {},
   "outputs": [],
   "source": [
    "class RBM():\n",
    "    def __init__(self, v_units=784, h_units=200, k_steps=35):\n",
    "        self.num_visible = v_units # visible units\n",
    "        self.num_hidden = h_units # hidden units\n",
    "        self.k_steps = k_steps # k-steps for contrastive divergence\n",
    "        \n",
    "        self.alpha = tf.Variable(0.1) # learning rate\n",
    "        \n",
    "        # RBM architecture will be two layers only - visible and hidden, none else; not a DBM\n",
    "        self.weights = tf.Variable(tf.truncated_normal(shape=[self.num_visible, self.num_hidden], stddev=0.1), name='weights')\n",
    "        self.v_biases = tf.Variable(tf.constant(1.0, shape=[self.num_visible]), name='visible_biases')\n",
    "        self.h_biases = tf.Variable(tf.constant(1.0, shape=[self.num_hidden]), name='hidden_biases')\n",
    "        \n",
    "    def vhActivation(self, visible):\n",
    "        # We use the result of sigmoid activation as the probability of neuron firing\n",
    "        input = tf.matmul(visible, self.weights) + self.h_biases\n",
    "        return tf.nn.sigmoid(input)\n",
    "    \n",
    "    def hvActivation(self, hidden):\n",
    "        # Same case, in reverse\n",
    "        input = tf.matmul(hidden, tf.transpose(self.weights)) + self.v_biases\n",
    "        return tf.nn.sigmoid(input)\n",
    "    \n",
    "    # Two following functions are Gibbs sampling steps\n",
    "    # To simulate the firing of stochastic binary neurons, we make use of tf.random_uniform\n",
    "    # which generates random vals between [0, 1) for floats. As they are random,\n",
    "    # we don't know which are larger/smaller than the sigmoid activations.\n",
    "    # So we subtract them from the sigmoid activations and then use ReLU to decide which neurons have fired 'stochastically'\n",
    "    # and which haven't. tf.sign raises the values that would survive to 1, and drops the losing neurons to -1 to be culled by ReLU\n",
    "    def sample_h(self, v_sample):\n",
    "        h = self.vhActivation(v_sample)\n",
    "        h_sample = tf.nn.relu(tf.sign(h - tf.random_uniform(tf.shape(h))))\n",
    "        return h_sample\n",
    "    \n",
    "    def sample_v(self, h_sample):\n",
    "        v = self.hvActivation(h_sample)\n",
    "        v_sample = tf.nn.relu(tf.sign(v - tf.random_uniform(tf.shape(v))))\n",
    "        return v_sample\n",
    "    \n",
    "    # CDk learning algorithm\n",
    "    def CD_k(self, v):\n",
    "        # sample with k steps of Gibbs\n",
    "        v_sample = v\n",
    "        h_sample = self.sample_h(v_sample) # generating the first step in the Markov chain from time t=0\n",
    "        \n",
    "        for step in range(self.k_steps): # subsequent time steps in the Markov chain progress now for k steps\n",
    "            v_sample = self.sample_v(h_sample)\n",
    "            h_sample = self.sample_h(v_sample)\n",
    "        \n",
    "        # The learning rule is ΔW = ε(<vh>0 - <vh>k)\n",
    "        # in <vh>0, v is the visible vector at the beginning of the Markov particle, h is sample generated given that v.\n",
    "        # in <vh>k, the last sampling taken from the chain, v and h are both final samples generated from the chain\n",
    "        h = self.vhActivation(v)\n",
    "        positive_statistic = tf.matmul(tf.transpose(v), h) # wish to increase probability of the visible vector\n",
    "        negative_statistic = tf.matmul(tf.transpose(v_sample), h_sample) # decrease probabilities of competing vectors\n",
    "        w_grad = (positive_statistic - negative_statistic) / tf.to_float(tf.shape(v)[0])\n",
    "        \n",
    "        # in keeping with the guides I'm following, I'll perform these next two steps.\n",
    "        # They look to be gradients for the biases\n",
    "        hb_grad = tf.reduce_mean(h - h_sample, 0)\n",
    "        vb_grad = tf.reduce_mean(v - v_sample, 0)\n",
    "        \n",
    "        return w_grad, hb_grad, vb_grad\n",
    "    \n",
    "    def learning_step(self, v):\n",
    "        w_grad, hb_grad, vb_grad = self.CD_k(v)\n",
    "        \n",
    "        w = tf.assign(self.weights, self.alpha * w_grad)\n",
    "        hb = tf.assign(self.h_biases, self.alpha * hb_grad)\n",
    "        vb = tf.assign(self.v_biases, self.alpha * vb_grad)\n",
    "        return [w, vb, hb]\n",
    "    \n",
    "    # function to get samples of reconstructed images from the model\n",
    "    # run for a number of steps to approach the stationary distribution of the model\n",
    "    # then return a reconstruction to display\n",
    "    def imageSample(self, v, steps=5000):\n",
    "        v_sample = v\n",
    "        # Run chain for 'steps' iterations before taking a sample - default is 5000 steps\n",
    "        for step in range(steps):\n",
    "            v_sample = self.sample_v(self.sample_h((v_sample)))\n",
    "        return v_sample\n",
    "    \n",
    "    # Functions for calculating likelihood now follow\n",
    "    # Our objective function is to maximize the likelihood of visible vectors from the dataset\n",
    "    # while reducing the likelihood of competitor vectors\n",
    "    # to track this, we try to quantify the log probabilities\n",
    "    # but because the amount of join configurations of (v, h) vary exponentially with the number of units,\n",
    "    # we compute approximations instead; pseudo likelihood.\n",
    "    def free_energy(self, v):\n",
    "        # (1 x num_visible) * (num_visible x 1) -> real value output\n",
    "        print(v.get_shape())\n",
    "        print(self.v_biases.get_shape())\n",
    "        visible_activations = tf.matmul(v, tf.reshape(self.v_biases, [tf.shape(self.v_biases)[0], 1]))\n",
    "        # visible activations took care of energy contributions from the visible units and their biases\n",
    "        # activations within the hidden layer, including visible-hidden contributions, are exponentiated\n",
    "        # and marginalized in the logarithmic domain\n",
    "        activations = tf.reduce_sum(tf.log(1 + tf.exp(self.h_biases + tf.matmul(v, self.weights))), axis=1)\n",
    "        return -(visible_activations - activations)\n",
    "    \n",
    "    i = 0\n",
    "    \n",
    "    def pseudo_log_likelihood(self, v):\n",
    "        vec = tf.round(v)\n",
    "        vec_fe = self.free_energy(vec)\n",
    "        split0, split1, split2 = tf.split(vec, [self.i, 1, tf.shape(vec)[1] - self.i - 1], 1)\n",
    "        veci = tf.concat([split0, 1 - split1, split2], 1)\n",
    "        self.i = (self.i + 1) % self.num_visible\n",
    "        veci_fe = self.free_energy(veci)\n",
    "        return tf.reduce_mean(self.num_visible * tf.log(tf.nn.sigmoid(veci_fe - vec_fe)), axis=0)"
   ]
  },
  {
   "cell_type": "code",
   "execution_count": 9,
   "metadata": {},
   "outputs": [
    {
     "ename": "SyntaxError",
     "evalue": "invalid syntax (<ipython-input-9-52761b457bdb>, line 3)",
     "output_type": "error",
     "traceback": [
      "\u001b[1;36m  File \u001b[1;32m\"<ipython-input-9-52761b457bdb>\"\u001b[1;36m, line \u001b[1;32m3\u001b[0m\n\u001b[1;33m    def next_batch_indices()\u001b[0m\n\u001b[1;37m                            ^\u001b[0m\n\u001b[1;31mSyntaxError\u001b[0m\u001b[1;31m:\u001b[0m invalid syntax\n"
     ]
    }
   ],
   "source": [
    "import random\n",
    "\n",
    "# quick helper function to pull out the relevant training vectors\n",
    "# from the training set.\n",
    "def next_batch(index, batch_sz, len_dataset):\n",
    "    start = (index * batch_sz) % len_dataset # 0-31, 32-63, 64-95\n",
    "    end = start + (batch_sz - 1)\n",
    "    if (end >= len_dataset):\n",
    "        end = len_dataset - 1\n",
    "    return start, end\n",
    "    \n",
    "\n",
    "def trainRBM(training_data, test_data, epochs, batch_size=32):\n",
    "    \n",
    "    data = np.float32(np.reshape(training_data, [60000, 784]))\n",
    "    \n",
    "    x = tf.placeholder(tf.float32, [None, 784])\n",
    "    \n",
    "    rbm = RBM()\n",
    "    rbm.alpha = 0.1\n",
    "    \n",
    "    step = rbm.learning_step(x)\n",
    "    sampler = rbm.imageSample(x)\n",
    "    pl = rbm.pseudo_log_likelihood(x)\n",
    "    \n",
    "    num_batches = int(len(training_data) / batch_size) # Changing to use batch_sizes and avoid the ResourceExhaustedError.\n",
    "    \n",
    "    saver = tf.train.Saver()\n",
    "    print(\"First checkpoint passed\")\n",
    "    with tf.Session() as sess:\n",
    "        sess.run(tf.global_variables_initializer())\n",
    "        mean_cost = [] # averaging cost over 500 epochs\n",
    "        print(\"Onto the epochs!\")\n",
    "        for i in range(epochs * num_batches): # Change made again here. Similar changes need all throughout to settle this.\n",
    "            start, end = next_batch(i, batch_size, len(training_data))\n",
    "            cost = sess.run(pl, feed_dict={x: data[start:end]} )\n",
    "            mean_cost.append(cost)\n",
    "\n",
    "            # draw a sample every 500 epochs\n",
    "            if i % 500 == 0:\n",
    "                sample = sess.run(sampler, feed_dict = {x: data})\n",
    "                sample = sample[random.randrange(59999)].reshape([28, 28])\n",
    "                plt.imshow(sample, cmap=plt.get_cmap('gray_r'))\n",
    "                print('Epoch ', i+1, ', Cost: ', np.mean(mean_cost))\n",
    "                mean_cost = []\n",
    "\n",
    "        print('Test data')\n",
    "        testCase = random.randrange(9999)\n",
    "        sample = sess.run(sampler, feed_dict = {x: test_data[testCase]})\n",
    "        sample = sample.reshape([28, 28])\n",
    "        plt.title(\"Label: %d\" % test[1][testCase])\n",
    "        plt.imshow(sample)\n",
    "        plt.show()\n",
    "        "
   ]
  },
  {
   "cell_type": "code",
   "execution_count": 30,
   "metadata": {},
   "outputs": [
    {
     "name": "stdout",
     "output_type": "stream",
     "text": [
      "(?, 784)\n",
      "(784,)\n",
      "(?, ?)\n",
      "(784,)\n",
      "First checkpoint passed\n",
      "Onto the epochs!\n"
     ]
    },
    {
     "ename": "ResourceExhaustedError",
     "evalue": "OOM when allocating tensor with shape[60000,60000] and type float on /job:localhost/replica:0/task:0/device:GPU:0 by allocator GPU_0_bfc\n\t [[Node: sub_70538 = Sub[T=DT_FLOAT, _device=\"/job:localhost/replica:0/task:0/device:GPU:0\"](MatMul_70532, Sum_6)]]\nHint: If you want to see a list of allocated tensors when OOM happens, add report_tensor_allocations_upon_oom to RunOptions for current allocation info.\n\n\t [[Node: Mean_16/_7 = _Recv[client_terminated=false, recv_device=\"/job:localhost/replica:0/task:0/device:CPU:0\", send_device=\"/job:localhost/replica:0/task:0/device:GPU:0\", send_device_incarnation=1, tensor_name=\"edge_75_Mean_16\", tensor_type=DT_FLOAT, _device=\"/job:localhost/replica:0/task:0/device:CPU:0\"]()]]\nHint: If you want to see a list of allocated tensors when OOM happens, add report_tensor_allocations_upon_oom to RunOptions for current allocation info.\n\n\nCaused by op 'sub_70538', defined at:\n  File \"C:\\Program Files (x86)\\Microsoft Visual Studio\\Shared\\Python36_64\\lib\\runpy.py\", line 193, in _run_module_as_main\n    \"__main__\", mod_spec)\n  File \"C:\\Program Files (x86)\\Microsoft Visual Studio\\Shared\\Python36_64\\lib\\runpy.py\", line 85, in _run_code\n    exec(code, run_globals)\n  File \"C:\\Users\\anant\\AppData\\Roaming\\Python\\Python36\\site-packages\\ipykernel_launcher.py\", line 16, in <module>\n    app.launch_new_instance()\n  File \"C:\\Users\\anant\\AppData\\Roaming\\Python\\Python36\\site-packages\\traitlets\\config\\application.py\", line 658, in launch_instance\n    app.start()\n  File \"C:\\Users\\anant\\AppData\\Roaming\\Python\\Python36\\site-packages\\ipykernel\\kernelapp.py\", line 497, in start\n    self.io_loop.start()\n  File \"C:\\Users\\anant\\AppData\\Roaming\\Python\\Python36\\site-packages\\tornado\\platform\\asyncio.py\", line 132, in start\n    self.asyncio_loop.run_forever()\n  File \"C:\\Program Files (x86)\\Microsoft Visual Studio\\Shared\\Python36_64\\lib\\asyncio\\base_events.py\", line 422, in run_forever\n    self._run_once()\n  File \"C:\\Program Files (x86)\\Microsoft Visual Studio\\Shared\\Python36_64\\lib\\asyncio\\base_events.py\", line 1434, in _run_once\n    handle._run()\n  File \"C:\\Program Files (x86)\\Microsoft Visual Studio\\Shared\\Python36_64\\lib\\asyncio\\events.py\", line 145, in _run\n    self._callback(*self._args)\n  File \"C:\\Users\\anant\\AppData\\Roaming\\Python\\Python36\\site-packages\\tornado\\platform\\asyncio.py\", line 122, in _handle_events\n    handler_func(fileobj, events)\n  File \"C:\\Users\\anant\\AppData\\Roaming\\Python\\Python36\\site-packages\\tornado\\stack_context.py\", line 300, in null_wrapper\n    return fn(*args, **kwargs)\n  File \"C:\\Users\\anant\\AppData\\Roaming\\Python\\Python36\\site-packages\\zmq\\eventloop\\zmqstream.py\", line 450, in _handle_events\n    self._handle_recv()\n  File \"C:\\Users\\anant\\AppData\\Roaming\\Python\\Python36\\site-packages\\zmq\\eventloop\\zmqstream.py\", line 480, in _handle_recv\n    self._run_callback(callback, msg)\n  File \"C:\\Users\\anant\\AppData\\Roaming\\Python\\Python36\\site-packages\\zmq\\eventloop\\zmqstream.py\", line 432, in _run_callback\n    callback(*args, **kwargs)\n  File \"C:\\Users\\anant\\AppData\\Roaming\\Python\\Python36\\site-packages\\tornado\\stack_context.py\", line 300, in null_wrapper\n    return fn(*args, **kwargs)\n  File \"C:\\Users\\anant\\AppData\\Roaming\\Python\\Python36\\site-packages\\ipykernel\\kernelbase.py\", line 283, in dispatcher\n    return self.dispatch_shell(stream, msg)\n  File \"C:\\Users\\anant\\AppData\\Roaming\\Python\\Python36\\site-packages\\ipykernel\\kernelbase.py\", line 233, in dispatch_shell\n    handler(stream, idents, msg)\n  File \"C:\\Users\\anant\\AppData\\Roaming\\Python\\Python36\\site-packages\\ipykernel\\kernelbase.py\", line 399, in execute_request\n    user_expressions, allow_stdin)\n  File \"C:\\Users\\anant\\AppData\\Roaming\\Python\\Python36\\site-packages\\ipykernel\\ipkernel.py\", line 208, in do_execute\n    res = shell.run_cell(code, store_history=store_history, silent=silent)\n  File \"C:\\Users\\anant\\AppData\\Roaming\\Python\\Python36\\site-packages\\ipykernel\\zmqshell.py\", line 537, in run_cell\n    return super(ZMQInteractiveShell, self).run_cell(*args, **kwargs)\n  File \"C:\\Users\\anant\\AppData\\Roaming\\Python\\Python36\\site-packages\\IPython\\core\\interactiveshell.py\", line 2662, in run_cell\n    raw_cell, store_history, silent, shell_futures)\n  File \"C:\\Users\\anant\\AppData\\Roaming\\Python\\Python36\\site-packages\\IPython\\core\\interactiveshell.py\", line 2785, in _run_cell\n    interactivity=interactivity, compiler=compiler, result=result)\n  File \"C:\\Users\\anant\\AppData\\Roaming\\Python\\Python36\\site-packages\\IPython\\core\\interactiveshell.py\", line 2907, in run_ast_nodes\n    if self.run_code(code, result):\n  File \"C:\\Users\\anant\\AppData\\Roaming\\Python\\Python36\\site-packages\\IPython\\core\\interactiveshell.py\", line 2961, in run_code\n    exec(code_obj, self.user_global_ns, self.user_ns)\n  File \"<ipython-input-30-e94a130440f2>\", line 1, in <module>\n    trainRBM(train[0], test[0], 3000)\n  File \"<ipython-input-29-a6392fcf0595>\", line 14, in trainRBM\n    pl = rbm.pseudo_log_likelihood(x)\n  File \"<ipython-input-16-08c50976cbe6>\", line 104, in pseudo_log_likelihood\n    vec_fe = self.free_energy(vec)\n  File \"<ipython-input-16-08c50976cbe6>\", line 98, in free_energy\n    return -(visible_activations - activations)\n  File \"C:\\Users\\anant\\AppData\\Roaming\\Python\\Python36\\site-packages\\tensorflow\\python\\ops\\math_ops.py\", line 847, in binary_op_wrapper\n    return func(x, y, name=name)\n  File \"C:\\Users\\anant\\AppData\\Roaming\\Python\\Python36\\site-packages\\tensorflow\\python\\ops\\gen_math_ops.py\", line 8582, in sub\n    \"Sub\", x=x, y=y, name=name)\n  File \"C:\\Users\\anant\\AppData\\Roaming\\Python\\Python36\\site-packages\\tensorflow\\python\\framework\\op_def_library.py\", line 787, in _apply_op_helper\n    op_def=op_def)\n  File \"C:\\Users\\anant\\AppData\\Roaming\\Python\\Python36\\site-packages\\tensorflow\\python\\framework\\ops.py\", line 3414, in create_op\n    op_def=op_def)\n  File \"C:\\Users\\anant\\AppData\\Roaming\\Python\\Python36\\site-packages\\tensorflow\\python\\framework\\ops.py\", line 1740, in __init__\n    self._traceback = self._graph._extract_stack()  # pylint: disable=protected-access\n\nResourceExhaustedError (see above for traceback): OOM when allocating tensor with shape[60000,60000] and type float on /job:localhost/replica:0/task:0/device:GPU:0 by allocator GPU_0_bfc\n\t [[Node: sub_70538 = Sub[T=DT_FLOAT, _device=\"/job:localhost/replica:0/task:0/device:GPU:0\"](MatMul_70532, Sum_6)]]\nHint: If you want to see a list of allocated tensors when OOM happens, add report_tensor_allocations_upon_oom to RunOptions for current allocation info.\n\n\t [[Node: Mean_16/_7 = _Recv[client_terminated=false, recv_device=\"/job:localhost/replica:0/task:0/device:CPU:0\", send_device=\"/job:localhost/replica:0/task:0/device:GPU:0\", send_device_incarnation=1, tensor_name=\"edge_75_Mean_16\", tensor_type=DT_FLOAT, _device=\"/job:localhost/replica:0/task:0/device:CPU:0\"]()]]\nHint: If you want to see a list of allocated tensors when OOM happens, add report_tensor_allocations_upon_oom to RunOptions for current allocation info.\n\n",
     "output_type": "error",
     "traceback": [
      "\u001b[1;31m---------------------------------------------------------------------------\u001b[0m",
      "\u001b[1;31mResourceExhaustedError\u001b[0m                    Traceback (most recent call last)",
      "\u001b[1;32m~\\AppData\\Roaming\\Python\\Python36\\site-packages\\tensorflow\\python\\client\\session.py\u001b[0m in \u001b[0;36m_do_call\u001b[1;34m(self, fn, *args)\u001b[0m\n\u001b[0;32m   1321\u001b[0m     \u001b[1;32mtry\u001b[0m\u001b[1;33m:\u001b[0m\u001b[1;33m\u001b[0m\u001b[0m\n\u001b[1;32m-> 1322\u001b[1;33m       \u001b[1;32mreturn\u001b[0m \u001b[0mfn\u001b[0m\u001b[1;33m(\u001b[0m\u001b[1;33m*\u001b[0m\u001b[0margs\u001b[0m\u001b[1;33m)\u001b[0m\u001b[1;33m\u001b[0m\u001b[0m\n\u001b[0m\u001b[0;32m   1323\u001b[0m     \u001b[1;32mexcept\u001b[0m \u001b[0merrors\u001b[0m\u001b[1;33m.\u001b[0m\u001b[0mOpError\u001b[0m \u001b[1;32mas\u001b[0m \u001b[0me\u001b[0m\u001b[1;33m:\u001b[0m\u001b[1;33m\u001b[0m\u001b[0m\n",
      "\u001b[1;32m~\\AppData\\Roaming\\Python\\Python36\\site-packages\\tensorflow\\python\\client\\session.py\u001b[0m in \u001b[0;36m_run_fn\u001b[1;34m(feed_dict, fetch_list, target_list, options, run_metadata)\u001b[0m\n\u001b[0;32m   1306\u001b[0m       return self._call_tf_sessionrun(\n\u001b[1;32m-> 1307\u001b[1;33m           options, feed_dict, fetch_list, target_list, run_metadata)\n\u001b[0m\u001b[0;32m   1308\u001b[0m \u001b[1;33m\u001b[0m\u001b[0m\n",
      "\u001b[1;32m~\\AppData\\Roaming\\Python\\Python36\\site-packages\\tensorflow\\python\\client\\session.py\u001b[0m in \u001b[0;36m_call_tf_sessionrun\u001b[1;34m(self, options, feed_dict, fetch_list, target_list, run_metadata)\u001b[0m\n\u001b[0;32m   1408\u001b[0m           \u001b[0mself\u001b[0m\u001b[1;33m.\u001b[0m\u001b[0m_session\u001b[0m\u001b[1;33m,\u001b[0m \u001b[0moptions\u001b[0m\u001b[1;33m,\u001b[0m \u001b[0mfeed_dict\u001b[0m\u001b[1;33m,\u001b[0m \u001b[0mfetch_list\u001b[0m\u001b[1;33m,\u001b[0m \u001b[0mtarget_list\u001b[0m\u001b[1;33m,\u001b[0m\u001b[1;33m\u001b[0m\u001b[0m\n\u001b[1;32m-> 1409\u001b[1;33m           run_metadata)\n\u001b[0m\u001b[0;32m   1410\u001b[0m     \u001b[1;32melse\u001b[0m\u001b[1;33m:\u001b[0m\u001b[1;33m\u001b[0m\u001b[0m\n",
      "\u001b[1;31mResourceExhaustedError\u001b[0m: OOM when allocating tensor with shape[60000,60000] and type float on /job:localhost/replica:0/task:0/device:GPU:0 by allocator GPU_0_bfc\n\t [[Node: sub_70538 = Sub[T=DT_FLOAT, _device=\"/job:localhost/replica:0/task:0/device:GPU:0\"](MatMul_70532, Sum_6)]]\nHint: If you want to see a list of allocated tensors when OOM happens, add report_tensor_allocations_upon_oom to RunOptions for current allocation info.\n\n\t [[Node: Mean_16/_7 = _Recv[client_terminated=false, recv_device=\"/job:localhost/replica:0/task:0/device:CPU:0\", send_device=\"/job:localhost/replica:0/task:0/device:GPU:0\", send_device_incarnation=1, tensor_name=\"edge_75_Mean_16\", tensor_type=DT_FLOAT, _device=\"/job:localhost/replica:0/task:0/device:CPU:0\"]()]]\nHint: If you want to see a list of allocated tensors when OOM happens, add report_tensor_allocations_upon_oom to RunOptions for current allocation info.\n",
      "\nDuring handling of the above exception, another exception occurred:\n",
      "\u001b[1;31mResourceExhaustedError\u001b[0m                    Traceback (most recent call last)",
      "\u001b[1;32m<ipython-input-30-e94a130440f2>\u001b[0m in \u001b[0;36m<module>\u001b[1;34m()\u001b[0m\n\u001b[1;32m----> 1\u001b[1;33m \u001b[0mtrainRBM\u001b[0m\u001b[1;33m(\u001b[0m\u001b[0mtrain\u001b[0m\u001b[1;33m[\u001b[0m\u001b[1;36m0\u001b[0m\u001b[1;33m]\u001b[0m\u001b[1;33m,\u001b[0m \u001b[0mtest\u001b[0m\u001b[1;33m[\u001b[0m\u001b[1;36m0\u001b[0m\u001b[1;33m]\u001b[0m\u001b[1;33m,\u001b[0m \u001b[1;36m3000\u001b[0m\u001b[1;33m)\u001b[0m\u001b[1;33m\u001b[0m\u001b[0m\n\u001b[0m",
      "\u001b[1;32m<ipython-input-29-a6392fcf0595>\u001b[0m in \u001b[0;36mtrainRBM\u001b[1;34m(training_data, test_data, epochs)\u001b[0m\n\u001b[0;32m     21\u001b[0m         \u001b[0mprint\u001b[0m\u001b[1;33m(\u001b[0m\u001b[1;34m\"Onto the epochs!\"\u001b[0m\u001b[1;33m)\u001b[0m\u001b[1;33m\u001b[0m\u001b[0m\n\u001b[0;32m     22\u001b[0m         \u001b[1;32mfor\u001b[0m \u001b[0mi\u001b[0m \u001b[1;32min\u001b[0m \u001b[0mrange\u001b[0m\u001b[1;33m(\u001b[0m\u001b[0mepochs\u001b[0m\u001b[1;33m)\u001b[0m\u001b[1;33m:\u001b[0m\u001b[1;33m\u001b[0m\u001b[0m\n\u001b[1;32m---> 23\u001b[1;33m             \u001b[0mcost\u001b[0m \u001b[1;33m=\u001b[0m \u001b[0msess\u001b[0m\u001b[1;33m.\u001b[0m\u001b[0mrun\u001b[0m\u001b[1;33m(\u001b[0m\u001b[0mpl\u001b[0m\u001b[1;33m,\u001b[0m \u001b[0mfeed_dict\u001b[0m\u001b[1;33m=\u001b[0m\u001b[1;33m{\u001b[0m\u001b[0mx\u001b[0m\u001b[1;33m:\u001b[0m \u001b[0mdata\u001b[0m\u001b[1;33m}\u001b[0m \u001b[1;33m)\u001b[0m\u001b[1;33m\u001b[0m\u001b[0m\n\u001b[0m\u001b[0;32m     24\u001b[0m             \u001b[0mmean_cost\u001b[0m\u001b[1;33m.\u001b[0m\u001b[0mappend\u001b[0m\u001b[1;33m(\u001b[0m\u001b[0mcost\u001b[0m\u001b[1;33m)\u001b[0m\u001b[1;33m\u001b[0m\u001b[0m\n\u001b[0;32m     25\u001b[0m \u001b[1;33m\u001b[0m\u001b[0m\n",
      "\u001b[1;32m~\\AppData\\Roaming\\Python\\Python36\\site-packages\\tensorflow\\python\\client\\session.py\u001b[0m in \u001b[0;36mrun\u001b[1;34m(self, fetches, feed_dict, options, run_metadata)\u001b[0m\n\u001b[0;32m    898\u001b[0m     \u001b[1;32mtry\u001b[0m\u001b[1;33m:\u001b[0m\u001b[1;33m\u001b[0m\u001b[0m\n\u001b[0;32m    899\u001b[0m       result = self._run(None, fetches, feed_dict, options_ptr,\n\u001b[1;32m--> 900\u001b[1;33m                          run_metadata_ptr)\n\u001b[0m\u001b[0;32m    901\u001b[0m       \u001b[1;32mif\u001b[0m \u001b[0mrun_metadata\u001b[0m\u001b[1;33m:\u001b[0m\u001b[1;33m\u001b[0m\u001b[0m\n\u001b[0;32m    902\u001b[0m         \u001b[0mproto_data\u001b[0m \u001b[1;33m=\u001b[0m \u001b[0mtf_session\u001b[0m\u001b[1;33m.\u001b[0m\u001b[0mTF_GetBuffer\u001b[0m\u001b[1;33m(\u001b[0m\u001b[0mrun_metadata_ptr\u001b[0m\u001b[1;33m)\u001b[0m\u001b[1;33m\u001b[0m\u001b[0m\n",
      "\u001b[1;32m~\\AppData\\Roaming\\Python\\Python36\\site-packages\\tensorflow\\python\\client\\session.py\u001b[0m in \u001b[0;36m_run\u001b[1;34m(self, handle, fetches, feed_dict, options, run_metadata)\u001b[0m\n\u001b[0;32m   1133\u001b[0m     \u001b[1;32mif\u001b[0m \u001b[0mfinal_fetches\u001b[0m \u001b[1;32mor\u001b[0m \u001b[0mfinal_targets\u001b[0m \u001b[1;32mor\u001b[0m \u001b[1;33m(\u001b[0m\u001b[0mhandle\u001b[0m \u001b[1;32mand\u001b[0m \u001b[0mfeed_dict_tensor\u001b[0m\u001b[1;33m)\u001b[0m\u001b[1;33m:\u001b[0m\u001b[1;33m\u001b[0m\u001b[0m\n\u001b[0;32m   1134\u001b[0m       results = self._do_run(handle, final_targets, final_fetches,\n\u001b[1;32m-> 1135\u001b[1;33m                              feed_dict_tensor, options, run_metadata)\n\u001b[0m\u001b[0;32m   1136\u001b[0m     \u001b[1;32melse\u001b[0m\u001b[1;33m:\u001b[0m\u001b[1;33m\u001b[0m\u001b[0m\n\u001b[0;32m   1137\u001b[0m       \u001b[0mresults\u001b[0m \u001b[1;33m=\u001b[0m \u001b[1;33m[\u001b[0m\u001b[1;33m]\u001b[0m\u001b[1;33m\u001b[0m\u001b[0m\n",
      "\u001b[1;32m~\\AppData\\Roaming\\Python\\Python36\\site-packages\\tensorflow\\python\\client\\session.py\u001b[0m in \u001b[0;36m_do_run\u001b[1;34m(self, handle, target_list, fetch_list, feed_dict, options, run_metadata)\u001b[0m\n\u001b[0;32m   1314\u001b[0m     \u001b[1;32mif\u001b[0m \u001b[0mhandle\u001b[0m \u001b[1;32mis\u001b[0m \u001b[1;32mNone\u001b[0m\u001b[1;33m:\u001b[0m\u001b[1;33m\u001b[0m\u001b[0m\n\u001b[0;32m   1315\u001b[0m       return self._do_call(_run_fn, feeds, fetches, targets, options,\n\u001b[1;32m-> 1316\u001b[1;33m                            run_metadata)\n\u001b[0m\u001b[0;32m   1317\u001b[0m     \u001b[1;32melse\u001b[0m\u001b[1;33m:\u001b[0m\u001b[1;33m\u001b[0m\u001b[0m\n\u001b[0;32m   1318\u001b[0m       \u001b[1;32mreturn\u001b[0m \u001b[0mself\u001b[0m\u001b[1;33m.\u001b[0m\u001b[0m_do_call\u001b[0m\u001b[1;33m(\u001b[0m\u001b[0m_prun_fn\u001b[0m\u001b[1;33m,\u001b[0m \u001b[0mhandle\u001b[0m\u001b[1;33m,\u001b[0m \u001b[0mfeeds\u001b[0m\u001b[1;33m,\u001b[0m \u001b[0mfetches\u001b[0m\u001b[1;33m)\u001b[0m\u001b[1;33m\u001b[0m\u001b[0m\n",
      "\u001b[1;32m~\\AppData\\Roaming\\Python\\Python36\\site-packages\\tensorflow\\python\\client\\session.py\u001b[0m in \u001b[0;36m_do_call\u001b[1;34m(self, fn, *args)\u001b[0m\n\u001b[0;32m   1333\u001b[0m         \u001b[1;32mexcept\u001b[0m \u001b[0mKeyError\u001b[0m\u001b[1;33m:\u001b[0m\u001b[1;33m\u001b[0m\u001b[0m\n\u001b[0;32m   1334\u001b[0m           \u001b[1;32mpass\u001b[0m\u001b[1;33m\u001b[0m\u001b[0m\n\u001b[1;32m-> 1335\u001b[1;33m       \u001b[1;32mraise\u001b[0m \u001b[0mtype\u001b[0m\u001b[1;33m(\u001b[0m\u001b[0me\u001b[0m\u001b[1;33m)\u001b[0m\u001b[1;33m(\u001b[0m\u001b[0mnode_def\u001b[0m\u001b[1;33m,\u001b[0m \u001b[0mop\u001b[0m\u001b[1;33m,\u001b[0m \u001b[0mmessage\u001b[0m\u001b[1;33m)\u001b[0m\u001b[1;33m\u001b[0m\u001b[0m\n\u001b[0m\u001b[0;32m   1336\u001b[0m \u001b[1;33m\u001b[0m\u001b[0m\n\u001b[0;32m   1337\u001b[0m   \u001b[1;32mdef\u001b[0m \u001b[0m_extend_graph\u001b[0m\u001b[1;33m(\u001b[0m\u001b[0mself\u001b[0m\u001b[1;33m)\u001b[0m\u001b[1;33m:\u001b[0m\u001b[1;33m\u001b[0m\u001b[0m\n",
      "\u001b[1;31mResourceExhaustedError\u001b[0m: OOM when allocating tensor with shape[60000,60000] and type float on /job:localhost/replica:0/task:0/device:GPU:0 by allocator GPU_0_bfc\n\t [[Node: sub_70538 = Sub[T=DT_FLOAT, _device=\"/job:localhost/replica:0/task:0/device:GPU:0\"](MatMul_70532, Sum_6)]]\nHint: If you want to see a list of allocated tensors when OOM happens, add report_tensor_allocations_upon_oom to RunOptions for current allocation info.\n\n\t [[Node: Mean_16/_7 = _Recv[client_terminated=false, recv_device=\"/job:localhost/replica:0/task:0/device:CPU:0\", send_device=\"/job:localhost/replica:0/task:0/device:GPU:0\", send_device_incarnation=1, tensor_name=\"edge_75_Mean_16\", tensor_type=DT_FLOAT, _device=\"/job:localhost/replica:0/task:0/device:CPU:0\"]()]]\nHint: If you want to see a list of allocated tensors when OOM happens, add report_tensor_allocations_upon_oom to RunOptions for current allocation info.\n\n\nCaused by op 'sub_70538', defined at:\n  File \"C:\\Program Files (x86)\\Microsoft Visual Studio\\Shared\\Python36_64\\lib\\runpy.py\", line 193, in _run_module_as_main\n    \"__main__\", mod_spec)\n  File \"C:\\Program Files (x86)\\Microsoft Visual Studio\\Shared\\Python36_64\\lib\\runpy.py\", line 85, in _run_code\n    exec(code, run_globals)\n  File \"C:\\Users\\anant\\AppData\\Roaming\\Python\\Python36\\site-packages\\ipykernel_launcher.py\", line 16, in <module>\n    app.launch_new_instance()\n  File \"C:\\Users\\anant\\AppData\\Roaming\\Python\\Python36\\site-packages\\traitlets\\config\\application.py\", line 658, in launch_instance\n    app.start()\n  File \"C:\\Users\\anant\\AppData\\Roaming\\Python\\Python36\\site-packages\\ipykernel\\kernelapp.py\", line 497, in start\n    self.io_loop.start()\n  File \"C:\\Users\\anant\\AppData\\Roaming\\Python\\Python36\\site-packages\\tornado\\platform\\asyncio.py\", line 132, in start\n    self.asyncio_loop.run_forever()\n  File \"C:\\Program Files (x86)\\Microsoft Visual Studio\\Shared\\Python36_64\\lib\\asyncio\\base_events.py\", line 422, in run_forever\n    self._run_once()\n  File \"C:\\Program Files (x86)\\Microsoft Visual Studio\\Shared\\Python36_64\\lib\\asyncio\\base_events.py\", line 1434, in _run_once\n    handle._run()\n  File \"C:\\Program Files (x86)\\Microsoft Visual Studio\\Shared\\Python36_64\\lib\\asyncio\\events.py\", line 145, in _run\n    self._callback(*self._args)\n  File \"C:\\Users\\anant\\AppData\\Roaming\\Python\\Python36\\site-packages\\tornado\\platform\\asyncio.py\", line 122, in _handle_events\n    handler_func(fileobj, events)\n  File \"C:\\Users\\anant\\AppData\\Roaming\\Python\\Python36\\site-packages\\tornado\\stack_context.py\", line 300, in null_wrapper\n    return fn(*args, **kwargs)\n  File \"C:\\Users\\anant\\AppData\\Roaming\\Python\\Python36\\site-packages\\zmq\\eventloop\\zmqstream.py\", line 450, in _handle_events\n    self._handle_recv()\n  File \"C:\\Users\\anant\\AppData\\Roaming\\Python\\Python36\\site-packages\\zmq\\eventloop\\zmqstream.py\", line 480, in _handle_recv\n    self._run_callback(callback, msg)\n  File \"C:\\Users\\anant\\AppData\\Roaming\\Python\\Python36\\site-packages\\zmq\\eventloop\\zmqstream.py\", line 432, in _run_callback\n    callback(*args, **kwargs)\n  File \"C:\\Users\\anant\\AppData\\Roaming\\Python\\Python36\\site-packages\\tornado\\stack_context.py\", line 300, in null_wrapper\n    return fn(*args, **kwargs)\n  File \"C:\\Users\\anant\\AppData\\Roaming\\Python\\Python36\\site-packages\\ipykernel\\kernelbase.py\", line 283, in dispatcher\n    return self.dispatch_shell(stream, msg)\n  File \"C:\\Users\\anant\\AppData\\Roaming\\Python\\Python36\\site-packages\\ipykernel\\kernelbase.py\", line 233, in dispatch_shell\n    handler(stream, idents, msg)\n  File \"C:\\Users\\anant\\AppData\\Roaming\\Python\\Python36\\site-packages\\ipykernel\\kernelbase.py\", line 399, in execute_request\n    user_expressions, allow_stdin)\n  File \"C:\\Users\\anant\\AppData\\Roaming\\Python\\Python36\\site-packages\\ipykernel\\ipkernel.py\", line 208, in do_execute\n    res = shell.run_cell(code, store_history=store_history, silent=silent)\n  File \"C:\\Users\\anant\\AppData\\Roaming\\Python\\Python36\\site-packages\\ipykernel\\zmqshell.py\", line 537, in run_cell\n    return super(ZMQInteractiveShell, self).run_cell(*args, **kwargs)\n  File \"C:\\Users\\anant\\AppData\\Roaming\\Python\\Python36\\site-packages\\IPython\\core\\interactiveshell.py\", line 2662, in run_cell\n    raw_cell, store_history, silent, shell_futures)\n  File \"C:\\Users\\anant\\AppData\\Roaming\\Python\\Python36\\site-packages\\IPython\\core\\interactiveshell.py\", line 2785, in _run_cell\n    interactivity=interactivity, compiler=compiler, result=result)\n  File \"C:\\Users\\anant\\AppData\\Roaming\\Python\\Python36\\site-packages\\IPython\\core\\interactiveshell.py\", line 2907, in run_ast_nodes\n    if self.run_code(code, result):\n  File \"C:\\Users\\anant\\AppData\\Roaming\\Python\\Python36\\site-packages\\IPython\\core\\interactiveshell.py\", line 2961, in run_code\n    exec(code_obj, self.user_global_ns, self.user_ns)\n  File \"<ipython-input-30-e94a130440f2>\", line 1, in <module>\n    trainRBM(train[0], test[0], 3000)\n  File \"<ipython-input-29-a6392fcf0595>\", line 14, in trainRBM\n    pl = rbm.pseudo_log_likelihood(x)\n  File \"<ipython-input-16-08c50976cbe6>\", line 104, in pseudo_log_likelihood\n    vec_fe = self.free_energy(vec)\n  File \"<ipython-input-16-08c50976cbe6>\", line 98, in free_energy\n    return -(visible_activations - activations)\n  File \"C:\\Users\\anant\\AppData\\Roaming\\Python\\Python36\\site-packages\\tensorflow\\python\\ops\\math_ops.py\", line 847, in binary_op_wrapper\n    return func(x, y, name=name)\n  File \"C:\\Users\\anant\\AppData\\Roaming\\Python\\Python36\\site-packages\\tensorflow\\python\\ops\\gen_math_ops.py\", line 8582, in sub\n    \"Sub\", x=x, y=y, name=name)\n  File \"C:\\Users\\anant\\AppData\\Roaming\\Python\\Python36\\site-packages\\tensorflow\\python\\framework\\op_def_library.py\", line 787, in _apply_op_helper\n    op_def=op_def)\n  File \"C:\\Users\\anant\\AppData\\Roaming\\Python\\Python36\\site-packages\\tensorflow\\python\\framework\\ops.py\", line 3414, in create_op\n    op_def=op_def)\n  File \"C:\\Users\\anant\\AppData\\Roaming\\Python\\Python36\\site-packages\\tensorflow\\python\\framework\\ops.py\", line 1740, in __init__\n    self._traceback = self._graph._extract_stack()  # pylint: disable=protected-access\n\nResourceExhaustedError (see above for traceback): OOM when allocating tensor with shape[60000,60000] and type float on /job:localhost/replica:0/task:0/device:GPU:0 by allocator GPU_0_bfc\n\t [[Node: sub_70538 = Sub[T=DT_FLOAT, _device=\"/job:localhost/replica:0/task:0/device:GPU:0\"](MatMul_70532, Sum_6)]]\nHint: If you want to see a list of allocated tensors when OOM happens, add report_tensor_allocations_upon_oom to RunOptions for current allocation info.\n\n\t [[Node: Mean_16/_7 = _Recv[client_terminated=false, recv_device=\"/job:localhost/replica:0/task:0/device:CPU:0\", send_device=\"/job:localhost/replica:0/task:0/device:GPU:0\", send_device_incarnation=1, tensor_name=\"edge_75_Mean_16\", tensor_type=DT_FLOAT, _device=\"/job:localhost/replica:0/task:0/device:CPU:0\"]()]]\nHint: If you want to see a list of allocated tensors when OOM happens, add report_tensor_allocations_upon_oom to RunOptions for current allocation info.\n\n"
     ]
    }
   ],
   "source": [
    "trainRBM(train[0], test[0], 3000)"
   ]
  },
  {
   "cell_type": "code",
   "execution_count": null,
   "metadata": {},
   "outputs": [],
   "source": []
  },
  {
   "cell_type": "code",
   "execution_count": null,
   "metadata": {},
   "outputs": [],
   "source": []
  }
 ],
 "metadata": {
  "kernelspec": {
   "display_name": "Python 3",
   "language": "python",
   "name": "python3"
  },
  "language_info": {
   "codemirror_mode": {
    "name": "ipython",
    "version": 3
   },
   "file_extension": ".py",
   "mimetype": "text/x-python",
   "name": "python",
   "nbconvert_exporter": "python",
   "pygments_lexer": "ipython3",
   "version": "3.6.6"
  }
 },
 "nbformat": 4,
 "nbformat_minor": 2
}
